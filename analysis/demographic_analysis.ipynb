{
 "cells": [
  {
   "cell_type": "markdown",
   "id": "69380763",
   "metadata": {},
   "source": [
    "analysis of demographic for study 1 n=20"
   ]
  },
  {
   "cell_type": "code",
   "execution_count": 1,
   "id": "cc56277d",
   "metadata": {},
   "outputs": [],
   "source": [
    "import pandas as pd"
   ]
  },
  {
   "cell_type": "code",
   "execution_count": 7,
   "id": "947cabbc",
   "metadata": {},
   "outputs": [
    {
     "data": {
      "text/plain": [
       "(              Submission id            Participant id    Status  \\\n",
       " 0  686aa9b0bad0290a85eb1070  62e154b0682e270b4acdf5ee  APPROVED   \n",
       " 1  686aaa0bc0a7cb99a0488001  5c5ca0ce4ee81200018eaf51  APPROVED   \n",
       " 2  686aaa273a192c68eb1c6973  675de3bd64119cef93edfc75  APPROVED   \n",
       " 3  686aaa42fd465fc806b2160d  675c6db4887ccdd0d3d15534  APPROVED   \n",
       " 4  686aab55e549f91a5906308b  66d282830897b77f5b260208  APPROVED   \n",
       " \n",
       "   Custom study tncs accepted at                   Started at  \\\n",
       " 0                Not Applicable  2025-07-06T17:00:55.799000Z   \n",
       " 1                Not Applicable  2025-07-06T16:53:31.378000Z   \n",
       " 2                Not Applicable  2025-07-06T16:55:01.678000Z   \n",
       " 3                Not Applicable  2025-07-06T16:54:26.819000Z   \n",
       " 4                Not Applicable  2025-07-06T16:59:06.087000Z   \n",
       " \n",
       "                   Completed at                  Reviewed at  \\\n",
       " 0  2025-07-06T17:24:04.991000Z  2025-07-10T07:53:24.298000Z   \n",
       " 1  2025-07-06T17:17:13.044000Z  2025-07-10T07:53:24.582000Z   \n",
       " 2  2025-07-06T17:15:24.003000Z  2025-07-10T07:53:24.867000Z   \n",
       " 3  2025-07-06T17:46:06.649000Z  2025-07-10T07:53:25.166000Z   \n",
       " 4  2025-07-06T17:17:48.063000Z  2025-07-10T07:53:25.429000Z   \n",
       " \n",
       "                    Archived at  Time taken Completion code  ...  \\\n",
       " 0  2025-07-06T17:24:05.430299Z      1390.0        C1C88DFD  ...   \n",
       " 1  2025-07-06T17:17:13.459757Z      1422.0        C1C88DFD  ...   \n",
       " 2  2025-07-06T17:15:24.411449Z      1223.0        C1C88DFD  ...   \n",
       " 3  2025-07-06T17:46:07.082319Z      3100.0        C1C88DFD  ...   \n",
       " 4  2025-07-06T17:17:48.475000Z      1122.0        C1C88DFD  ...   \n",
       " \n",
       "      Fluent languages   Age     Sex Ethnicity simplified Country of birth  \\\n",
       " 0             English  33.0    Male                White   United Kingdom   \n",
       " 1  Afrikaans, English  55.0  Female                White   United Kingdom   \n",
       " 2             English  46.0    Male                White    United States   \n",
       " 3             English  44.0  Female                Asian            Korea   \n",
       " 4             English  66.0  Female                White    United States   \n",
       " \n",
       "   Country of residence     Nationality Language Student status  \\\n",
       " 0       United Kingdom  United Kingdom  English             No   \n",
       " 1       United Kingdom  United Kingdom  English             No   \n",
       " 2        United States   United States  English             No   \n",
       " 3        United States           Korea  English             No   \n",
       " 4        United States   United States  English   DATA_EXPIRED   \n",
       " \n",
       "   Employment status  \n",
       " 0             Other  \n",
       " 1         Part-Time  \n",
       " 2         Full-Time  \n",
       " 3         Full-Time  \n",
       " 4      DATA_EXPIRED  \n",
       " \n",
       " [5 rows x 21 columns],\n",
       " Index(['Submission id', 'Participant id', 'Status',\n",
       "        'Custom study tncs accepted at', 'Started at', 'Completed at',\n",
       "        'Reviewed at', 'Archived at', 'Time taken', 'Completion code',\n",
       "        'Total approvals', 'Fluent languages', 'Age', 'Sex',\n",
       "        'Ethnicity simplified', 'Country of birth', 'Country of residence',\n",
       "        'Nationality', 'Language', 'Student status', 'Employment status'],\n",
       "       dtype='object'))"
      ]
     },
     "execution_count": 7,
     "metadata": {},
     "output_type": "execute_result"
    }
   ],
   "source": [
    "file_path = \"prolific_export_n20.csv\"\n",
    "df = pd.read_csv(file_path)\n",
    "\n",
    "df.head(), df.columns"
   ]
  },
  {
   "cell_type": "code",
   "execution_count": 8,
   "id": "999f7ec2",
   "metadata": {},
   "outputs": [
    {
     "name": "stdout",
     "output_type": "stream",
     "text": [
      "Mean Age: 40.65\n",
      "Std Age: 12.42\n",
      "\n",
      "Gender Distribution:\n",
      "Sex\n",
      "Female    55.0\n",
      "Male      45.0\n",
      "Name: proportion, dtype: float64\n"
     ]
    }
   ],
   "source": [
    "df[\"Age\"] = pd.to_numeric(df[\"Age\"], errors=\"coerce\")\n",
    "\n",
    "# Mean and std of age.\n",
    "mean_age = df[\"Age\"].mean()\n",
    "std_age = df[\"Age\"].std()\n",
    "\n",
    "# Gender distribution.\n",
    "gender_distribution = df[\"Sex\"].value_counts(normalize=True) * 100\n",
    "\n",
    "print(f\"Mean Age: {mean_age:.2f}\")\n",
    "print(f\"Std Age: {std_age:.2f}\")\n",
    "print(\"\\nGender Distribution:\")\n",
    "print(gender_distribution)"
   ]
  },
  {
   "cell_type": "code",
   "execution_count": 9,
   "id": "b2d453db",
   "metadata": {},
   "outputs": [
    {
     "data": {
      "text/plain": [
       "(np.float64(23.0), np.float64(66.0))"
      ]
     },
     "execution_count": 9,
     "metadata": {},
     "output_type": "execute_result"
    }
   ],
   "source": [
    "min_age = df[\"Age\"].min()\n",
    "max_age = df[\"Age\"].max()\n",
    "\n",
    "min_age, max_age"
   ]
  },
  {
   "cell_type": "markdown",
   "id": "1be2227a",
   "metadata": {},
   "source": [
    "analysis of demographic for study 2 n=30"
   ]
  },
  {
   "cell_type": "code",
   "execution_count": 4,
   "id": "5b040609",
   "metadata": {},
   "outputs": [
    {
     "data": {
      "text/plain": [
       "(              Submission id            Participant id    Status  \\\n",
       " 0  686d436ff6e46d7e2175abc1  5b90635a877eab0001d7ba9e  APPROVED   \n",
       " 1  686d4373f57523a6c4ec3083  67d95ba74a13b56b96a1e155  APPROVED   \n",
       " 2  686d437bf6e46d7e2175abc4  59a9c0291b7a550001d6392e  APPROVED   \n",
       " 3  686d439432af8f925e913308  677ea99632ede91523475586  APPROVED   \n",
       " 4  686d43a2f5dc2456d38dde4d  5f71935e1b5cc67c14c657b1  APPROVED   \n",
       " \n",
       "   Custom study tncs accepted at                   Started at  \\\n",
       " 0                Not Applicable  2025-07-08T16:14:44.074000Z   \n",
       " 1                Not Applicable  2025-07-08T16:12:35.864000Z   \n",
       " 2                Not Applicable  2025-07-08T16:12:43.023000Z   \n",
       " 3                Not Applicable  2025-07-08T16:13:22.351000Z   \n",
       " 4                Not Applicable  2025-07-08T16:13:26.065000Z   \n",
       " \n",
       "                   Completed at                  Reviewed at  \\\n",
       " 0  2025-07-08T16:28:06.398000Z  2025-07-10T08:00:15.792000Z   \n",
       " 1  2025-07-08T16:32:39.925000Z  2025-07-10T08:00:16.091000Z   \n",
       " 2  2025-07-08T16:27:48.138000Z  2025-07-10T08:00:16.365000Z   \n",
       " 3  2025-07-08T16:28:28.515000Z  2025-07-10T08:00:16.656000Z   \n",
       " 4  2025-07-08T16:27:23.668000Z  2025-07-10T08:00:16.978000Z   \n",
       " \n",
       "                    Archived at  Time taken Completion code  ...  \\\n",
       " 0  2025-07-08T16:28:06.804093Z       803.0        C1C88DFD  ...   \n",
       " 1  2025-07-08T16:32:40.371696Z      1205.0        C1C88DFD  ...   \n",
       " 2  2025-07-08T16:27:48.549206Z       906.0        C1C88DFD  ...   \n",
       " 3  2025-07-08T16:28:29.480759Z       907.0        C1C88DFD  ...   \n",
       " 4  2025-07-08T16:27:24.067772Z       838.0        C1C88DFD  ...   \n",
       " \n",
       "    Fluent languages   Age     Sex Ethnicity simplified Country of birth  \\\n",
       " 0           English  38.0    Male                White   United Kingdom   \n",
       " 1           English  55.0    Male                White   United Kingdom   \n",
       " 2           English  42.0  Female                White   United Kingdom   \n",
       " 3           English  42.0  Female                White    United States   \n",
       " 4           English  43.0  Female                White   United Kingdom   \n",
       " \n",
       "   Country of residence     Nationality Language Student status  \\\n",
       " 0       United Kingdom  United Kingdom  English   DATA_EXPIRED   \n",
       " 1       United Kingdom  United Kingdom  English             No   \n",
       " 2       United Kingdom  United Kingdom  English             No   \n",
       " 3       United Kingdom   United States  English             No   \n",
       " 4       United Kingdom  United Kingdom  English            Yes   \n",
       " \n",
       "   Employment status  \n",
       " 0      DATA_EXPIRED  \n",
       " 1         Full-Time  \n",
       " 2         Part-Time  \n",
       " 3         Full-Time  \n",
       " 4         Full-Time  \n",
       " \n",
       " [5 rows x 21 columns],\n",
       " Index(['Submission id', 'Participant id', 'Status',\n",
       "        'Custom study tncs accepted at', 'Started at', 'Completed at',\n",
       "        'Reviewed at', 'Archived at', 'Time taken', 'Completion code',\n",
       "        'Total approvals', 'Fluent languages', 'Age', 'Sex',\n",
       "        'Ethnicity simplified', 'Country of birth', 'Country of residence',\n",
       "        'Nationality', 'Language', 'Student status', 'Employment status'],\n",
       "       dtype='object'))"
      ]
     },
     "execution_count": 4,
     "metadata": {},
     "output_type": "execute_result"
    }
   ],
   "source": [
    "file_path = \"prolific_export_n30.csv\"\n",
    "df = pd.read_csv(file_path)\n",
    "\n",
    "df.head(), df.columns"
   ]
  },
  {
   "cell_type": "code",
   "execution_count": 5,
   "id": "e30a451d",
   "metadata": {},
   "outputs": [
    {
     "name": "stdout",
     "output_type": "stream",
     "text": [
      "Mean Age: 42.53\n",
      "Std Age: 11.19\n",
      "\n",
      "Gender Distribution:\n",
      "Sex\n",
      "Female    56.666667\n",
      "Male      43.333333\n",
      "Name: proportion, dtype: float64\n"
     ]
    }
   ],
   "source": [
    "df[\"Age\"] = pd.to_numeric(df[\"Age\"], errors=\"coerce\")\n",
    "\n",
    "# Mean and std of age.\n",
    "mean_age = df[\"Age\"].mean()\n",
    "std_age = df[\"Age\"].std()\n",
    "\n",
    "# Gender distribution.\n",
    "gender_distribution = df[\"Sex\"].value_counts(normalize=True) * 100\n",
    "\n",
    "print(f\"Mean Age: {mean_age:.2f}\")\n",
    "print(f\"Std Age: {std_age:.2f}\")\n",
    "print(\"\\nGender Distribution:\")\n",
    "print(gender_distribution)"
   ]
  },
  {
   "cell_type": "code",
   "execution_count": 6,
   "id": "29cdb1e9",
   "metadata": {},
   "outputs": [
    {
     "data": {
      "text/plain": [
       "(np.float64(19.0), np.float64(66.0))"
      ]
     },
     "execution_count": 6,
     "metadata": {},
     "output_type": "execute_result"
    }
   ],
   "source": [
    "min_age = df[\"Age\"].min()\n",
    "max_age = df[\"Age\"].max()\n",
    "\n",
    "min_age, max_age"
   ]
  }
 ],
 "metadata": {
  "kernelspec": {
   "display_name": "Python 3",
   "language": "python",
   "name": "python3"
  },
  "language_info": {
   "codemirror_mode": {
    "name": "ipython",
    "version": 3
   },
   "file_extension": ".py",
   "mimetype": "text/x-python",
   "name": "python",
   "nbconvert_exporter": "python",
   "pygments_lexer": "ipython3",
   "version": "3.11.0"
  }
 },
 "nbformat": 4,
 "nbformat_minor": 5
}
